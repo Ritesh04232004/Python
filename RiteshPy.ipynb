{
  "nbformat": 4,
  "nbformat_minor": 0,
  "metadata": {
    "colab": {
      "provenance": [],
      "authorship_tag": "ABX9TyOEB7WrRBTjVNu656MjY+pi",
      "include_colab_link": true
    },
    "kernelspec": {
      "name": "python3",
      "display_name": "Python 3"
    },
    "language_info": {
      "name": "python"
    }
  },
  "cells": [
    {
      "cell_type": "markdown",
      "metadata": {
        "id": "view-in-github",
        "colab_type": "text"
      },
      "source": [
        "<a href=\"https://colab.research.google.com/github/Ritesh04232004/Python/blob/main/RiteshPy.ipynb\" target=\"_parent\"><img src=\"https://colab.research.google.com/assets/colab-badge.svg\" alt=\"Open In Colab\"/></a>"
      ]
    },
    {
      "cell_type": "code",
      "execution_count": null,
      "metadata": {
        "colab": {
          "base_uri": "https://localhost:8080/",
          "height": 36
        },
        "id": "rGZzYSQc4CTH",
        "outputId": "3c5ef88d-95f7-4c08-a5e2-52fdda386234"
      },
      "outputs": [
        {
          "output_type": "execute_result",
          "data": {
            "text/plain": [
              "' Ritesh \\nAgnihotri'"
            ],
            "application/vnd.google.colaboratory.intrinsic+json": {
              "type": "string"
            }
          },
          "metadata": {},
          "execution_count": 1
        }
      ],
      "source": [
        "# hi\n",
        "\"\"\" Ritesh\n",
        "Agnihotri\"\"\"\n"
      ]
    },
    {
      "cell_type": "code",
      "source": [
        "from typing import Final\n",
        "# a = 2\n",
        "# b = 3.4\n",
        "# c = True\n",
        "# d = \"Ritesh\"\n",
        "# print(a)\n",
        "# print(b)\n",
        "# print(c)\n",
        "# print(d)\n",
        "# print(type(a))\n",
        "# print(type(b))\n",
        "# print(type(c))\n",
        "# print(type(d))\n",
        "\n",
        "\n",
        "\n",
        "# Shirt = 2000\n",
        "# Shirt_on_Discount= 5\n",
        "# Pant = 2500\n",
        "# Pant_on_Discount= 4\n",
        "# Shoes = 1800\n",
        "# Shoes_on_Discount= 7\n",
        "# Discount = 10\n",
        "# discount_on_shirt = Shirt-Shirt* Shirt_on_Discount/100\n",
        "# print(\"Shirt Price\",discount_on_shirt)\n",
        "# discount_on_Pant = Pant-Pant* Pant_on_Discount/100\n",
        "# print(\"Pant Price\",discount_on_Pant)\n",
        "# discount_on_Shoes = Shoes - Shoes* Shoes_on_Discount/100\n",
        "# print(\"Shoes Price\",discount_on_Shoes)\n",
        "\n",
        "# final= (discount_on_Pant+discount_on_shirt+discount_on_Shoes-discount_on_Pant+discount_on_shirt+discount_on_Shoes*Discount/100)\n",
        "# print(\"Total Price\",final)\n",
        "\n"
      ],
      "metadata": {
        "colab": {
          "base_uri": "https://localhost:8080/"
        },
        "collapsed": true,
        "id": "ubHPISRv59io",
        "outputId": "80959f8d-8ab8-40a6-e01e-a1fefa1f0993"
      },
      "execution_count": null,
      "outputs": [
        {
          "output_type": "stream",
          "name": "stdout",
          "text": [
            "Shirt Price 1900.0\n",
            "Pant Price 2400.0\n",
            "Shoes Price 1674.0\n",
            "Total Price 5641.4\n"
          ]
        }
      ]
    },
    {
      "cell_type": "code",
      "source": [
        "# All_Price\n",
        "\n",
        "pizza = 180\n",
        "burger = 100\n",
        "french_fries = 80\n",
        "noodles = 120\n",
        "sandwhich = 60\n",
        "# Discount on Items\n",
        "\n",
        "sandwhich_discount = 10\n",
        "pizza_discount = 15\n",
        "burger_discount = 10\n",
        "frenchfries_discount = 5\n",
        "noodles_discount = 10\n",
        "\n",
        "price_of_pizza = pizza - pizza * pizza_discount/100\n",
        "print(\"Pizza Price = \",price_of_pizza)\n",
        "price_of_burger = burger - burger * burger_discount/100\n",
        "print(\"Burger Price = \",price_of_burger)\n",
        "price_of_frenchfries = french_fries - french_fries * frenchfries_discount/100\n",
        "print(\"French Fries Price = \",price_of_frenchfries)\n",
        "price_of_noodles = noodles - noodles * noodles_discount/100\n",
        "print(\"Noodles Price = \",price_of_noodles)\n",
        "price_of_sandwitch = sandwhich - sandwhich * sandwhich_discount/100\n",
        "print(\"Sandwitch Price = \",price_of_sandwitch)\n",
        "Full_order_discount = 20\n",
        "combo = (price_of_burger+price_of_frenchfries+price_of_noodles+price_of_pizza+price_of_sandwitch*Full_order_discount/100)\n",
        "print(\"Combo Offer 10% off= \",combo)"
      ],
      "metadata": {
        "colab": {
          "base_uri": "https://localhost:8080/"
        },
        "id": "zEHVndpR8kfc",
        "outputId": "13e75866-d0ee-4e7a-812a-f9c5a182b6a9"
      },
      "execution_count": 5,
      "outputs": [
        {
          "output_type": "stream",
          "name": "stdout",
          "text": [
            "Pizza Price =  153.0\n",
            "Burger Price =  90.0\n",
            "French Fries Price =  76.0\n",
            "Noodles Price =  108.0\n",
            "Sandwitch Price =  54.0\n",
            "Combo Offer 10% off=  437.8\n"
          ]
        }
      ]
    }
  ]
}