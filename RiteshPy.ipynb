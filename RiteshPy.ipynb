{
  "nbformat": 4,
  "nbformat_minor": 0,
  "metadata": {
    "colab": {
      "provenance": [],
      "authorship_tag": "ABX9TyNdkidKjM4bSL/OpF0t67gu",
      "include_colab_link": true
    },
    "kernelspec": {
      "name": "python3",
      "display_name": "Python 3"
    },
    "language_info": {
      "name": "python"
    }
  },
  "cells": [
    {
      "cell_type": "markdown",
      "metadata": {
        "id": "view-in-github",
        "colab_type": "text"
      },
      "source": [
        "<a href=\"https://colab.research.google.com/github/Ritesh04232004/Python/blob/main/RiteshPy.ipynb\" target=\"_parent\"><img src=\"https://colab.research.google.com/assets/colab-badge.svg\" alt=\"Open In Colab\"/></a>"
      ]
    },
    {
      "cell_type": "code",
      "source": [
        "\n",
        "# a = 2\n",
        "# b = 3.4\n",
        "# c = True\n",
        "# d = \"Ritesh\"\n",
        "# print(a)\n",
        "# print(b)\n",
        "# print(c)\n",
        "# print(d)\n",
        "# print(type(a))\n",
        "# print(type(b))\n",
        "# print(type(c))\n",
        "# print(type(d))\n",
        "\n",
        "\n",
        "\n",
        "# Shirt = 2000\n",
        "# Shirt_on_Discount= 5\n",
        "# Pant = 2500\n",
        "# Pant_on_Discount= 4\n",
        "# Shoes = 1800\n",
        "# Shoes_on_Discount= 7\n",
        "# Discount = 10\n",
        "# discount_on_shirt = Shirt-Shirt* Shirt_on_Discount/100\n",
        "# print(\"Shirt Price\",discount_on_shirt)\n",
        "# discount_on_Pant = Pant-Pant* Pant_on_Discount/100\n",
        "# print(\"Pant Price\",discount_on_Pant)\n",
        "# discount_on_Shoes = Shoes - Shoes* Shoes_on_Discount/100\n",
        "# print(\"Shoes Price\",discount_on_Shoes)\n",
        "\n",
        "# final= (discount_on_Pant+discount_on_shirt+discount_on_Shoes-discount_on_Pant+discount_on_shirt+discount_on_Shoes*Discount/100)\n",
        "# print(\"Total Price\",final)\n",
        "\n"
      ],
      "metadata": {
        "colab": {
          "base_uri": "https://localhost:8080/"
        },
        "collapsed": true,
        "id": "ubHPISRv59io",
        "outputId": "80959f8d-8ab8-40a6-e01e-a1fefa1f0993"
      },
      "execution_count": null,
      "outputs": [
        {
          "output_type": "stream",
          "name": "stdout",
          "text": [
            "Shirt Price 1900.0\n",
            "Pant Price 2400.0\n",
            "Shoes Price 1674.0\n",
            "Total Price 5641.4\n"
          ]
        }
      ]
    },
    {
      "cell_type": "code",
      "source": [
        "# All_Price\n",
        "\n",
        "pizza = 180\n",
        "burger = 100\n",
        "french_fries = 80\n",
        "noodles = 120\n",
        "sandwhich = 60\n",
        "# Discount on Items\n",
        "\n",
        "sandwhich_discount = 10\n",
        "pizza_discount = 15\n",
        "burger_discount = 10\n",
        "frenchfries_discount = 5\n",
        "noodles_discount = 10\n",
        "# Finding_Discounts\n",
        "\n",
        "price_of_pizza = pizza - pizza * pizza_discount/100\n",
        "price_of_burger = burger - burger * burger_discount/100\n",
        "price_of_frenchfries = french_fries - french_fries * frenchfries_discount/100\n",
        "price_of_noodles = noodles - noodles * noodles_discount/100\n",
        "price_of_sandwitch = sandwhich - sandwhich * sandwhich_discount/100\n",
        "# Combo_Discount\n",
        "\n",
        "Full_order_discount = 20\n",
        "combo = (price_of_burger+price_of_frenchfries+price_of_noodles+price_of_pizza+price_of_sandwitch*Full_order_discount/100)\n",
        "# Without Cupon Code\n",
        "\n",
        "combo2 = (price_of_burger+price_of_frenchfries+price_of_noodles+price_of_pizza+price_of_sandwitch)\n",
        "# Printing_All_Price\n",
        "\n",
        "print(\"Item Names                   Prices          Discount\")\n",
        "print(\"Pizza Price =               \",price_of_pizza,\"Rupees   \",sandwhich_discount,\"% off\")\n",
        "print(\"Burger Price =              \",price_of_burger,\"Rupees    \",burger_discount,\"% off\")\n",
        "print(\"French Fries Price =        \",price_of_frenchfries,\"Rupees    \",frenchfries_discount,\"% off\")\n",
        "print(\"Noodles Price =             \",price_of_noodles,\"Rupees   \",noodles_discount,\"% off\")\n",
        "print(\"Sandwitch Price =           \",price_of_sandwitch,\"Rupees    \",sandwhich_discount,\"% off\")\n",
        "print(\"Special Offer\")\n",
        "print(\"Without Coupon code =       \",combo2,\"Rupees     0 % off\")\n",
        "print(\"Coupon Code Offer 10% off=  \",combo,\"Rupees   \",Full_order_discount,\"% off\")"
      ],
      "metadata": {
        "colab": {
          "base_uri": "https://localhost:8080/"
        },
        "id": "zEHVndpR8kfc",
        "outputId": "a073967f-5c0e-47e7-c236-28a5ae8024ac"
      },
      "execution_count": null,
      "outputs": [
        {
          "output_type": "stream",
          "name": "stdout",
          "text": [
            "Item Names                   Prices          Discount\n",
            "Pizza Price =                153.0 Rupees    10 % off\n",
            "Burger Price =               90.0 Rupees     10 % off\n",
            "French Fries Price =         76.0 Rupees     5 % off\n",
            "Noodles Price =              108.0 Rupees    10 % off\n",
            "Sandwitch Price =            54.0 Rupees     10 % off\n",
            "Special Offer\n",
            "Without Coupon code =        481.0 Rupees     0 % off\n",
            "Coupon Code Offer 10% off=   437.8 Rupees    20 % off\n"
          ]
        }
      ]
    },
    {
      "cell_type": "code",
      "source": [
        "USD =int(input(\"Currency INR to USD = \"))\n",
        "rupee_in_dollar = 88.00\n",
        "Converter_of_inr_usd= USD*rupee_in_dollar\n",
        "print(\"USD = \",Converter_of_inr_usd)\n",
        "\n",
        "GBP = int(input(\"Currency INR to GBP = \"))\n",
        "rupee_in_gbp = 119.00\n",
        "Converter_of_inr_gbp = GBP * rupee_in_gbp\n",
        "print(\"GBP = \",Converter_of_inr_gbp)\n",
        "\n",
        "INR = int(input(\"Currency USD to INR = \"))\n",
        "rupee_in_inr = INR/88.00\n",
        "print(\"INR = \",rupee_in_inr)\n",
        "\n",
        "euro = int(input(\"Convert INR to Euro = \"))\n",
        "euro_Price = 103.28\n",
        "Converter_of_inr_euro= euro * euro_Price\n",
        "print(\"Euro = \",Converter_of_inr_euro)\n"
      ],
      "metadata": {
        "colab": {
          "base_uri": "https://localhost:8080/"
        },
        "id": "m4jZVe9SarfK",
        "outputId": "e51a28bb-c24d-4a96-f937-2491b86f9f43"
      },
      "execution_count": null,
      "outputs": [
        {
          "output_type": "stream",
          "name": "stdout",
          "text": [
            "Currency INR to USD = 5\n",
            "USD =  440.0\n",
            "Currency INR to GBP = 5\n",
            "GBP =  595.0\n",
            "Currency USD to INR = 500\n",
            "INR =  5.681818181818182\n",
            "Convert INR to Euro = 5\n",
            "Euro =  516.4\n"
          ]
        }
      ]
    },
    {
      "cell_type": "code",
      "source": [
        "# from re import I\n",
        "# Simple Interst\n",
        "# amount = 1000\n",
        "# rate = 5\n",
        "# year = 2\n",
        "# simple_interst = (amount*rate*year)/100\n",
        "# print(simple_interst)\n",
        "\n",
        "# # Q2 2 month 21days\n",
        "amount = 2000\n",
        "rate = 5\n",
        "month = 2\n",
        "days = 21\n",
        "time_in_year = (month/12)+(days/365)\n",
        "interst = (amount*rate*time_in_year)/100\n",
        "print(interst)"
      ],
      "metadata": {
        "colab": {
          "base_uri": "https://localhost:8080/"
        },
        "id": "FIe4kW0NnBfM",
        "outputId": "14c886e7-ed06-409b-d767-db57c9c440ec"
      },
      "execution_count": null,
      "outputs": [
        {
          "output_type": "stream",
          "name": "stdout",
          "text": [
            "22.42009132420091\n"
          ]
        }
      ]
    },
    {
      "cell_type": "code",
      "source": [
        "age = int(input(\"Enter Your Age = \"))\n",
        "if age >= 18:\n",
        "    print(\"You can do vote\")\n",
        "else:\n",
        "  print(18 - age ,\"year early to do vote\")"
      ],
      "metadata": {
        "colab": {
          "base_uri": "https://localhost:8080/"
        },
        "id": "f9CcXHzvnhaK",
        "outputId": "cb076531-2d8c-4a1c-d6ab-8895e591cc17"
      },
      "execution_count": null,
      "outputs": [
        {
          "output_type": "stream",
          "name": "stdout",
          "text": [
            "Enter Your Age = 17\n",
            "1 year early to do vote\n"
          ]
        }
      ]
    },
    {
      "cell_type": "code",
      "source": [
        "num = int(input(\"Find Even or Odd = \"))\n",
        "if num%2 ==0:\n",
        "  print(num ,\"Is Even Number\")\n",
        "else:\n",
        "  print(num ,\"Is Odd Number\")"
      ],
      "metadata": {
        "colab": {
          "base_uri": "https://localhost:8080/"
        },
        "id": "90kWoZmJpwiH",
        "outputId": "8b728276-245b-4aed-c510-7525ce09a218"
      },
      "execution_count": null,
      "outputs": [
        {
          "output_type": "stream",
          "name": "stdout",
          "text": [
            "Find Even or Odd = 5\n",
            "5 Is Odd Number\n"
          ]
        }
      ]
    },
    {
      "cell_type": "code",
      "source": [
        "shirt = str(input(\"Which colour you want = \"))\n",
        "if shirt == \"red\":\n",
        "  print(\"I want Red Shirt\")\n",
        "elif shirt == \"blue\":\n",
        "  print(\"I want Blue Shirt\")\n",
        "else:\n",
        "  print(\"ggs\")\n",
        "\n"
      ],
      "metadata": {
        "colab": {
          "base_uri": "https://localhost:8080/"
        },
        "id": "R4UujwSyslX2",
        "outputId": "b15f459e-f204-48ff-b0db-e8e5be58c5f4"
      },
      "execution_count": null,
      "outputs": [
        {
          "output_type": "stream",
          "name": "stdout",
          "text": [
            "Which colour you want = red\n",
            "I want Red Shirt\n"
          ]
        }
      ]
    },
    {
      "cell_type": "code",
      "source": [
        "# 100 in 2 hotles A and B and A = B1 B2 , B = B1 B2 male hotle A girls B , A1 age = 30low , A2 = 30 upper sane as in B1\n",
        "gender = input(\"Enter your Gender (Male/Female) = \")\n",
        "age = int(input(\"Enter your Age = \"))\n",
        "\n",
        "if gender == \"male\":\n",
        "  if age <= 30:\n",
        "    hotle_block = \"A1\"\n",
        "  else:\n",
        "    hotle_blick = \"A2\"\n",
        "elif gender == \"female\":\n",
        "  if age <= 30:\n",
        "    hotle_block = \"B1\"\n",
        "  else:\n",
        "    hotle_block = \"B2\"\n",
        "else:\n",
        "  hotle_block = \"Invalid Input\"\n",
        "print(f\"Your assigned to hotle block: {hotle_block}\",)\n"
      ],
      "metadata": {
        "id": "aEUSx5tLtgg_",
        "colab": {
          "base_uri": "https://localhost:8080/"
        },
        "outputId": "ddbdd834-638f-4a8c-d027-9e52a482a10b"
      },
      "execution_count": 2,
      "outputs": [
        {
          "output_type": "stream",
          "name": "stdout",
          "text": [
            "Enter your Gender (Male/Female) = female\n",
            "Enter your Age = 31\n",
            "Your assigned to hotle block: B2 B2\n"
          ]
        }
      ]
    }
  ]
}